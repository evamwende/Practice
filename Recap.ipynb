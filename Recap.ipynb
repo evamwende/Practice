{
 "cells": [
  {
   "cell_type": "code",
   "execution_count": 1,
   "metadata": {},
   "outputs": [
    {
     "data": {
      "text/plain": [
       "'Eva Munjuga'"
      ]
     },
     "execution_count": 1,
     "metadata": {},
     "output_type": "execute_result"
    }
   ],
   "source": [
    "#Strings\n",
    "my_name = \"Eva Munjuga\"\n",
    "my_name"
   ]
  },
  {
   "cell_type": "code",
   "execution_count": 2,
   "metadata": {},
   "outputs": [
    {
     "data": {
      "text/plain": [
       "True"
      ]
     },
     "execution_count": 2,
     "metadata": {},
     "output_type": "execute_result"
    }
   ],
   "source": [
    "#Boolean\n",
    "is_Kenya = True\n",
    "is_Somalia = False\n",
    "is_Kenya"
   ]
  },
  {
   "cell_type": "code",
   "execution_count": 3,
   "metadata": {},
   "outputs": [
    {
     "data": {
      "text/plain": [
       "2"
      ]
     },
     "execution_count": 3,
     "metadata": {},
     "output_type": "execute_result"
    }
   ],
   "source": [
    "#Integers\n",
    "1+1"
   ]
  },
  {
   "cell_type": "code",
   "execution_count": 4,
   "metadata": {},
   "outputs": [
    {
     "data": {
      "text/plain": [
       "float"
      ]
     },
     "execution_count": 4,
     "metadata": {},
     "output_type": "execute_result"
    }
   ],
   "source": [
    "#Floats\n",
    "type(7.3)"
   ]
  },
  {
   "cell_type": "code",
   "execution_count": 5,
   "metadata": {},
   "outputs": [
    {
     "data": {
      "text/plain": [
       "bool"
      ]
     },
     "execution_count": 5,
     "metadata": {},
     "output_type": "execute_result"
    }
   ],
   "source": [
    "type(is_Kenya)"
   ]
  },
  {
   "cell_type": "code",
   "execution_count": 7,
   "metadata": {},
   "outputs": [
    {
     "data": {
      "text/plain": [
       "'Moringa School'"
      ]
     },
     "execution_count": 7,
     "metadata": {},
     "output_type": "execute_result"
    }
   ],
   "source": [
    "name_one = \"Moringa\"\n",
    "name_two = \"School\"\n",
    "School_name = name_one + \" \" + name_two\n",
    "School_name"
   ]
  },
  {
   "cell_type": "code",
   "execution_count": 8,
   "metadata": {},
   "outputs": [
    {
     "data": {
      "text/plain": [
       "True"
      ]
     },
     "execution_count": 8,
     "metadata": {},
     "output_type": "execute_result"
    }
   ],
   "source": [
    "# Coparison Operators\n",
    "50>=40"
   ]
  },
  {
   "cell_type": "code",
   "execution_count": 9,
   "metadata": {},
   "outputs": [],
   "source": [
    "#Arithmetic operators\n",
    "# +, *, -, /, %, **, //\n",
    "\n",
    "# % - gives you the remeinder\n",
    "# ** - exponential (raised to the power of?)\n",
    "# // - Flo division (gives the quotient)\n"
   ]
  },
  {
   "cell_type": "code",
   "execution_count": 11,
   "metadata": {},
   "outputs": [
    {
     "data": {
      "text/plain": [
       "1"
      ]
     },
     "execution_count": 11,
     "metadata": {},
     "output_type": "execute_result"
    }
   ],
   "source": [
    "# e.g. \n",
    "3%2\n"
   ]
  },
  {
   "cell_type": "code",
   "execution_count": 12,
   "metadata": {},
   "outputs": [
    {
     "data": {
      "text/plain": [
       "16"
      ]
     },
     "execution_count": 12,
     "metadata": {},
     "output_type": "execute_result"
    }
   ],
   "source": [
    "# e.g.\n",
    "4**2"
   ]
  },
  {
   "cell_type": "code",
   "execution_count": 13,
   "metadata": {},
   "outputs": [
    {
     "data": {
      "text/plain": [
       "2"
      ]
     },
     "execution_count": 13,
     "metadata": {},
     "output_type": "execute_result"
    }
   ],
   "source": [
    " # e.g.\n",
    "5//2\n"
   ]
  },
  {
   "cell_type": "code",
   "execution_count": 16,
   "metadata": {},
   "outputs": [
    {
     "name": "stdout",
     "output_type": "stream",
     "text": [
      "fail\n"
     ]
    }
   ],
   "source": [
    "# Control Flow Operators\n",
    "# if else statement\n",
    "students_maths= 7\n",
    "if students_maths > 50:\n",
    "    print(\"pass\")\n",
    "else:\n",
    "      print(\"fail\")  "
   ]
  },
  {
   "cell_type": "code",
   "execution_count": 17,
   "metadata": {},
   "outputs": [
    {
     "name": "stdout",
     "output_type": "stream",
     "text": [
      "num +\n"
     ]
    }
   ],
   "source": [
    "x=10\n",
    "if x > 0:\n",
    "    print(\"num +\")\n",
    "else:\n",
    "    print(\"num -\")\n"
   ]
  },
  {
   "cell_type": "code",
   "execution_count": null,
   "metadata": {},
   "outputs": [],
   "source": [
    "Lwanga Njonge8:32 PM\n",
    "#Step 1\n",
    "travel_destinations=['Argentina','Mexico','Italy','Finland','Canada','Croatia']\n",
    "def number_of_destinations():\n",
    "    number_of_destinations= len(travel_destinations)\n",
    "    return number_of_destinations\n",
    "number_of_destinations()\n",
    "Ans 6\n",
    "\n",
    "#Step 2\n",
    "def favorite_destination():\n",
    "    return 'Madagascar'\n",
    "favorite_destination()\n",
    "Ans Madagascar\n",
    "#Step 3\n",
    "def add_favorite_destination():\n",
    "    travel_destinations.append(favorite_destination())\n",
    "    return travel_destinations\n",
    "add_favorite_destination()\n",
    "travel_destinations[-1]\n",
    "Ans Madagascar\n",
    "\n",
    "#Step 4\n",
    "print(travel_destinations)"
   ]
  },
  {
   "cell_type": "code",
   "execution_count": 2,
   "metadata": {},
   "outputs": [],
   "source": [
    "tasks = {\n",
    "    \"Monday\": [\"Task 1\", \"Task 2\"],\n",
    "    \"Tuesday\": [\"Task 3\"],\n",
    "    \"Wednesday\": [\"Task 4\", \"Task 5\", \"Task 6\"],\n",
    "    \"Thursday\": [],\n",
    "    \"Friday\": [\"Task 7\"]\n",
    "}"
   ]
  },
  {
   "cell_type": "code",
   "execution_count": 8,
   "metadata": {},
   "outputs": [
    {
     "name": "stdout",
     "output_type": "stream",
     "text": [
      "Tasks for Monday:\n",
      "Task 1\n",
      "Task 2\n",
      "No tasks\n",
      "\n",
      "Tasks for Tuesday:\n",
      "Task 3\n",
      "No tasks\n",
      "\n",
      "Tasks for Wednesday:\n",
      "Task 4\n",
      "Task 5\n",
      "Task 6\n",
      "No tasks\n",
      "\n",
      "Tasks for Thursday:\n",
      "No tasks\n",
      "\n",
      "Tasks for Friday:\n",
      "Task 7\n",
      "No tasks\n",
      "\n"
     ]
    }
   ],
   "source": [
    "\n",
    "for day, task_list in tasks.items():\n",
    "    print(f\"Tasks for {day}:\")\n",
    "    for task in task_list:\n",
    "            print(task)\n",
    "    else:\n",
    "        print(\"No tasks\")\n",
    "        print()"
   ]
  },
  {
   "cell_type": "code",
   "execution_count": 9,
   "metadata": {},
   "outputs": [
    {
     "name": "stderr",
     "output_type": "stream",
     "text": [
      "<>:6: SyntaxWarning: \"is not\" with a literal. Did you mean \"!=\"?\n",
      "<>:7: SyntaxWarning: \"is not\" with a literal. Did you mean \"!=\"?\n",
      "<>:6: SyntaxWarning: \"is not\" with a literal. Did you mean \"!=\"?\n",
      "<>:7: SyntaxWarning: \"is not\" with a literal. Did you mean \"!=\"?\n"
     ]
    },
    {
     "name": "stdout",
     "output_type": "stream",
     "text": [
      "False True True True False False\n"
     ]
    },
    {
     "name": "stderr",
     "output_type": "stream",
     "text": [
      "<ipython-input-9-50e2c528522d>:6: SyntaxWarning: \"is not\" with a literal. Did you mean \"!=\"?\n",
      "  identity_compare4 = 9 is not 10 # True\n",
      "<ipython-input-9-50e2c528522d>:7: SyntaxWarning: \"is not\" with a literal. Did you mean \"!=\"?\n",
      "  identity_compare5 = \"Same\" is not \"Same\" # False\n"
     ]
    }
   ],
   "source": [
    "a = []\n",
    "b = a\n",
    "identity_compare = {} is {} # False\n",
    "identity_compare2 = a is b # True\n",
    "identity_compare3 = b is not [] # True\n",
    "identity_compare4 = 9 is not 10 # True\n",
    "identity_compare5 = \"Same\" is not \"Same\" # False\n",
    "identity_compare6 = [1,3,4] is [1,2,3] # False\n",
    "print(identity_compare, identity_compare2, identity_compare3, identity_compare4, identity_compare5, identity_compare6)"
   ]
  },
  {
   "cell_type": "code",
   "execution_count": 1,
   "metadata": {},
   "outputs": [
    {
     "name": "stdout",
     "output_type": "stream",
     "text": [
      "Leonard\n",
      "Sellah\n",
      "Kariuki\n"
     ]
    }
   ],
   "source": [
    "name_list=['Leonard', 'Sellah', 'Kariuki']\n",
    "for name in name_list:\n",
    "    print(name)"
   ]
  },
  {
   "cell_type": "code",
   "execution_count": null,
   "metadata": {},
   "outputs": [],
   "source": []
  }
 ],
 "metadata": {
  "kernelspec": {
   "display_name": "Python (learn-env)",
   "language": "python",
   "name": "learn-env"
  },
  "language_info": {
   "codemirror_mode": {
    "name": "ipython",
    "version": 3
   },
   "file_extension": ".py",
   "mimetype": "text/x-python",
   "name": "python",
   "nbconvert_exporter": "python",
   "pygments_lexer": "ipython3",
   "version": "3.8.5"
  }
 },
 "nbformat": 4,
 "nbformat_minor": 4
}
